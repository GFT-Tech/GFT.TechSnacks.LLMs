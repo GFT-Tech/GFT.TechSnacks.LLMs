{
 "cells": [
  {
   "cell_type": "code",
   "execution_count": 3,
   "metadata": {},
   "outputs": [],
   "source": [
    "import os\n",
    "from langchain import PromptTemplate\n",
    "import openai\n",
    "import pinecone\n",
    "from fastapi.middleware.cors import CORSMiddleware\n",
    "from langchain.vectorstores import Pinecone\n",
    "from langchain.embeddings.openai import OpenAIEmbeddings\n",
    "from langchain.chat_models import ChatOpenAI\n",
    "from langchain.chains import ConversationalRetrievalChain\n",
    "from langchain.chains.conversational_retrieval.prompts import QA_PROMPT\n",
    "from dotenv import load_dotenv, find_dotenv\n",
    "from langchain.llms import AzureOpenAI\n",
    "from langchain.memory import ConversationBufferWindowMemory\n",
    "from langchain.memory import ConversationBufferMemory\n",
    "from langchain.chains import RetrievalQA\n",
    "\n",
    "#check .env\n",
    "_ = load_dotenv(find_dotenv())\n",
    "\n",
    "# Open AI Chat Completion LLM Model from Langchain, with Streaming enabled\n",
    "openai_llm = AzureOpenAI(\n",
    "    deployment_name=\"gpt-tech-snacks\",\n",
    "    model_name=\"text-embedding-ada-002\",\n",
    "    temperature=0\n",
    ")\n",
    "\n",
    "embeddings = OpenAIEmbeddings(openai_api_key=os.environ['OPENAI_API_KEY'],\n",
    "                              #this makes it work with azure\n",
    "                              deployment=\"embedding-tech-snacks\",\n",
    "                              model=\"text-embedding-ada-002\",\n",
    "                              openai_api_base=os.environ['OPENAI_API_BASE'],\n",
    "                              openai_api_type=os.environ['OPENAI_API_TYPE']\n",
    "                              )#1 is azure limitation\n",
    "TEXT_FIELD = \"text\"\n",
    "index = pinecone.Index(os.environ['PINECONE_INDEX'])\n",
    "memory = ConversationBufferMemory(memory_key=\"chat_history\", return_messages=True)\n"
   ]
  },
  {
   "cell_type": "code",
   "execution_count": 6,
   "metadata": {},
   "outputs": [],
   "source": [
    "namespace=\"helicopter\"\n",
    "#namespace=\"sphinx\""
   ]
  },
  {
   "cell_type": "code",
   "execution_count": 13,
   "metadata": {},
   "outputs": [],
   "source": [
    "vectorstore = Pinecone(\n",
    "    index, embeddings.embed_query, TEXT_FIELD,\n",
    "    namespace=namespace\n",
    ")\n",
    "qa = RetrievalQA.from_chain_type(\n",
    "    llm=openai_llm,\n",
    "    chain_type=\"stuff\",    \n",
    "    retriever=vectorstore.as_retriever(),\n",
    "    memory=memory\n",
    ")\n"
   ]
  },
  {
   "cell_type": "code",
   "execution_count": 15,
   "metadata": {},
   "outputs": [
    {
     "name": "stdout",
     "output_type": "stream",
     "text": [
      " \n",
      "1. Complete the pre-take-off checklist and ensure the area is clear. \n",
      "2. Use the cyclic to maintain position over the ground during the takeoff. Before starting the takeoff, the cyclic is centralized, and then adjusted as required to ascend vertically and prevent the helicopter from drifting. \n",
      "3. Use the collective to lift off and climb from the ground to the normal hover height of 3 to 5 feet. The collective should be raised slowly so the other controls can be adjusted, as the helicopter becomes “light on the skids”; this will ensure that an accurate takeoff is accomplished. \n",
      "4. Use the pedals to control the heading of the helicopter. Prior to take off the pedals are centralized. As torque is increased pedal will have to be applied to maintain heading. \n",
      "5. Throttle may have to be adjusted in some piston engine helicopter to maintain RPM throughout the takeoff. \n",
      "6. After every takeoff, a hover check must be completed. \n",
      "7. If possible make your takeoffs and landings into wind.<|im_end|>\n"
     ]
    }
   ],
   "source": [
    "response = qa.run(\"How to take-off?\")\n",
    "print(response)"
   ]
  }
 ],
 "metadata": {
  "kernelspec": {
   "display_name": "gft-tech-snacks",
   "language": "python",
   "name": "python3"
  },
  "language_info": {
   "codemirror_mode": {
    "name": "ipython",
    "version": 3
   },
   "file_extension": ".py",
   "mimetype": "text/x-python",
   "name": "python",
   "nbconvert_exporter": "python",
   "pygments_lexer": "ipython3",
   "version": "3.9.16"
  },
  "orig_nbformat": 4
 },
 "nbformat": 4,
 "nbformat_minor": 2
}
