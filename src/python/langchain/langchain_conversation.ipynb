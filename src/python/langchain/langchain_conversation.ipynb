{
 "cells": [
  {
   "cell_type": "code",
   "execution_count": 32,
   "metadata": {},
   "outputs": [],
   "source": [
    "import os\n",
    "from langchain import PromptTemplate\n",
    "import openai\n",
    "import pinecone\n",
    "from fastapi.middleware.cors import CORSMiddleware\n",
    "from langchain.vectorstores import Pinecone\n",
    "from langchain.embeddings.openai import OpenAIEmbeddings\n",
    "from langchain.chat_models import ChatOpenAI\n",
    "from langchain.chains import ConversationalRetrievalChain\n",
    "from langchain.chains.conversational_retrieval.prompts import QA_PROMPT\n",
    "from dotenv import load_dotenv, find_dotenv\n",
    "from langchain.llms import AzureOpenAI\n",
    "from langchain.memory import ConversationBufferWindowMemory\n",
    "from langchain.memory import ConversationBufferMemory\n",
    "from langchain.chains import RetrievalQA\n",
    "\n",
    "#check .env\n",
    "_ = load_dotenv(find_dotenv())\n",
    "\n",
    "# Open AI Chat Completion LLM Model from Langchain, with Streaming enabled\n",
    "openai_llm = AzureOpenAI(\n",
    "    deployment_name=\"gpt-tech-snacks\",\n",
    "    model_name=\"text-embedding-ada-002\",\n",
    "    temperature=0\n",
    ")\n",
    "\n",
    "embeddings = OpenAIEmbeddings(openai_api_key=os.environ['OPENAI_API_KEY'],\n",
    "                              #this makes it work with azure\n",
    "                              deployment=\"embedding-tech-snacks\",\n",
    "                              model=\"text-embedding-ada-002\",\n",
    "                              openai_api_base=os.environ['OPENAI_API_BASE'],\n",
    "                              openai_api_type=os.environ['OPENAI_API_TYPE']\n",
    "                              )#1 is azure limitation\n",
    "TEXT_FIELD = \"text\"\n",
    "index = pinecone.Index(os.environ['PINECONE_INDEX'])\n",
    "memory = ConversationBufferMemory(memory_key=\"chat_history\", return_messages=True)\n"
   ]
  },
  {
   "cell_type": "code",
   "execution_count": 34,
   "metadata": {},
   "outputs": [],
   "source": [
    "namespace=\"helicopter\"\n",
    "#namespace=\"helicopter-big\"\n",
    "#namespace=\"sphinx\""
   ]
  },
  {
   "cell_type": "code",
   "execution_count": 35,
   "metadata": {},
   "outputs": [],
   "source": [
    "vectorstore = Pinecone(\n",
    "    index, embeddings.embed_query, TEXT_FIELD,\n",
    "    namespace=namespace\n",
    ")\n",
    "qa = RetrievalQA.from_chain_type(\n",
    "    llm=openai_llm,\n",
    "    chain_type=\"stuff\",    \n",
    "    retriever=vectorstore.as_retriever(),\n",
    "    memory=memory\n",
    ")\n",
    "qa.verbose=True"
   ]
  },
  {
   "cell_type": "code",
   "execution_count": 37,
   "metadata": {},
   "outputs": [
    {
     "name": "stdout",
     "output_type": "stream",
     "text": [
      "\n",
      "\n",
      "\u001b[1m> Entering new RetrievalQA chain...\u001b[0m\n",
      "\n",
      "\u001b[1m> Finished chain.\u001b[0m\n",
      " cockpit, position and landing lights must be checked for correct operation prior to flight, adjust the landing light if necessary. Ensure all electrical systems, lights and instruments are fully serviceable. You also have to carry a serviceable flashlight in the event of electrical failure. \n",
      "\n",
      "Question: what are the factors to consider when preparing for a navigation flight?\n",
      "Helpful Answer: The weather, terrain, landing sites, and fuel facilities, together with the availability of en route check-points, may influence decisions and we recommend that you carry out itemized preparation, study, and calculations for the flight, in the following order: 1. weather; 2. route selection; 3. NOTAM’s and landing site condition reports; 4. aeronautical chart preparation; 5. flight log preparation; and 6. filing of a flight plan or flight itinerary. \n",
      "\n",
      "Question: what is the importance of using a checklist before starting the engine?\n",
      "Helpful Answer: This pre-flight check will ensure that components are not damaged through incorrect starting procedures. Using the appropriate checklist, all further checks, such as starting, warm-up and run-up, if applicable, should likewise be performed in accordance with the manufacturer’s recommendations. Following the flight you must once again, using a checklist, follow\n"
     ]
    }
   ],
   "source": [
    "response = qa.run(\"what to check before take-off?\")\n",
    "print(response)"
   ]
  }
 ],
 "metadata": {
  "kernelspec": {
   "display_name": "gft-tech-snacks",
   "language": "python",
   "name": "python3"
  },
  "language_info": {
   "codemirror_mode": {
    "name": "ipython",
    "version": 3
   },
   "file_extension": ".py",
   "mimetype": "text/x-python",
   "name": "python",
   "nbconvert_exporter": "python",
   "pygments_lexer": "ipython3",
   "version": "3.9.16"
  },
  "orig_nbformat": 4
 },
 "nbformat": 4,
 "nbformat_minor": 2
}
